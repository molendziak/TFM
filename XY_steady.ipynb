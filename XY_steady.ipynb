{
 "cells": [
  {
   "cell_type": "code",
   "execution_count": null,
   "metadata": {},
   "outputs": [],
   "source": [
    "import netket as nk\n",
    "import json\n",
    "import matplotlib.pyplot as plt\n",
    "import numpy as np\n",
    "import jax\n",
    "import qutip as qt\n",
    "import netket.experimental as nkx\n",
    "import optax as opt\n",
    "import flax.linen as nn\n",
    "import jax.numpy as jnp"
   ]
  },
  {
   "cell_type": "markdown",
   "metadata": {},
   "source": [
    "# Initialization part"
   ]
  },
  {
   "cell_type": "code",
   "execution_count": null,
   "metadata": {},
   "outputs": [],
   "source": [
    "# definie the parameters of the model\n",
    "L = 4\n",
    "gamma = 1.0\n",
    "Jx = 0.9\n",
    "Jy = 1.9\n",
    "Jz = 1.0\n",
    "\n",
    "# define hilbert space and hamiltonian dimensions\n",
    "g = nk.graph.Hypercube(length=L, n_dim=1, pbc=True)\n",
    "h_space = nk.hilbert.Spin(s=0.5, N=g.n_nodes)\n",
    "hamiltonian = nk.operator.LocalOperator(h_space, dtype=complex)\n",
    "\n",
    "# create storage for the observables and jumps operators\n",
    "j_ops = []\n",
    "obs_sx = nk.operator.LocalOperator(h_space)\n",
    "obs_sy = nk.operator.LocalOperator(h_space, dtype=complex)\n",
    "obs_sz = nk.operator.LocalOperator(h_space)\n",
    "\n",
    "# build hamiltonian and observables\n",
    "for i in range(L):\n",
    "    hamiltonian += (Jx/4 * nk.operator.spin.sigmax(h_space, i) * nk.operator.spin.sigmax(h_space, (i + 1) % L))\n",
    "    hamiltonian += (Jy/4 * nk.operator.spin.sigmay(h_space, i) * nk.operator.spin.sigmay(h_space, (i + 1) % L))\n",
    "    #hamiltonian += (Jz/4 * nk.operator.spin.sigmaz(h_space, i) * nk.operator.spin.sigmaz(h_space, (i + 1) % L))\n",
    "    \n",
    "    obs_sx += nk.operator.spin.sigmax(h_space, i)/ L\n",
    "    obs_sy += nk.operator.spin.sigmay(h_space, i)/ L\n",
    "    obs_sz += nk.operator.spin.sigmaz(h_space, i)/ L\n",
    "\n",
    "\n",
    "    j_ops.append(gamma * (nk.operator.spin.sigmam(h_space, i)))\n",
    "\n",
    "# create the Liouvillian superoperator\n",
    "lind = nk.operator.LocalLiouvillian(hamiltonian, j_ops)\n",
    "\n",
    "# create the ansatz model\n",
    "rbm = nk.models.NDM(alpha=1, beta=1, use_visible_bias=True, use_hidden_bias=True, use_ancilla_bias=True, kernel_init=nn.initializers.normal(stddev=0.1),\n",
    "                    bias_init=nn.initializers.normal(stddev=0.1), visible_bias_init=nn.initializers.normal(stddev=0.1))\n",
    "# define the sampler\n",
    "sampler = nk.sampler.MetropolisLocal(lind.hilbert, n_chains=20)\n",
    "sampler_diag = nk.sampler.MetropolisLocal(h_space, n_chains=20)\n",
    "\n",
    "# create the variational state\n",
    "v_state = nk.vqs.MCMixedState(sampler, rbm, n_samples=8000, n_samples_diag=8000, sampler_diag=sampler_diag, seed=789)\n",
    "v_state.init_parameters(jax.nn.initializers.normal(stddev=0.1), seed=789)"
   ]
  },
  {
   "cell_type": "code",
   "execution_count": null,
   "metadata": {},
   "outputs": [],
   "source": [
    "# calcualte steady state density matrix with qutip\n",
    "rho_ss = qt.steadystate(hamiltonian.to_qobj(), [j_op.to_qobj() for j_op in j_ops])\n",
    "v_state"
   ]
  },
  {
   "cell_type": "code",
   "execution_count": null,
   "metadata": {},
   "outputs": [],
   "source": [
    "# calcualte observables with qutip\n",
    "obx_q = obs_sx.to_qobj()\n",
    "oby_q = obs_sy.to_qobj()\n",
    "obz_q = obs_sz.to_qobj()\n",
    "\n",
    "sxq, syq, szq = qt.expect(obx_q, rho_ss), qt.expect(oby_q, rho_ss), qt.expect(obz_q, rho_ss)\n",
    "print(\"\\n\", \"x-magnetization:\", sxq,\"\\n\", \"y-magnetization:\", syq, \"\\n\", \"z-magnetization:\", szq)"
   ]
  },
  {
   "cell_type": "code",
   "execution_count": null,
   "metadata": {},
   "outputs": [],
   "source": [
    "# calculate observales with netket exact method\n",
    "rho_nk = nk.exact.steady_state(lind, method='iterative', rho0=v_state.to_matrix())\n",
    "\n",
    "obsx = obs_sy.to_dense()\n",
    "obsy = obs_sy.to_dense()\n",
    "obsz = obs_sz.to_dense()\n",
    "\n",
    "sx, sy, sz = np.real(np.trace(rho_nk @ obsx)), np.real(np.trace(rho_nk @ obsy)), np.real(np.trace(rho_nk @ obsz))\n",
    "print(\"\\n\", \"x-magnetization:\", np.round(sx, 5),\"\\n\", \"y-magnetization:\", np.round(sy,5), \"\\n\", \"z-magnetization:\",np.round(sz,5))"
   ]
  },
  {
   "cell_type": "markdown",
   "metadata": {},
   "source": [
    "# Simulation part"
   ]
  },
  {
   "cell_type": "code",
   "execution_count": null,
   "metadata": {},
   "outputs": [],
   "source": [
    "# defining the optimizer\n",
    "optimizer = nk.optimizer.Sgd(0.01)\n",
    "sr = nk.optimizer.SR(diag_shift=0.01,solver=nk.optimizer.solver.svd, holomorphic=False)\n",
    "\n",
    "# create the simulation object minimizing the Liouvillian\n",
    "ss = nk.SteadyState(lind, variational_state=v_state, optimizer=optimizer, preconditioner=sr)\n",
    "\n",
    "# save the data whicle running\n",
    "logger= nk.logging.RuntimeLog()\n",
    "\n",
    "# start the simulation defining the observables measured at each iteration\n",
    "ss.run(out=logger, n_iter=5000, obs={\"Sx\": obs_sx, \"Sy\": obs_sy, \"Sz\": obs_sz})"
   ]
  },
  {
   "cell_type": "markdown",
   "metadata": {},
   "source": [
    "# Results"
   ]
  },
  {
   "cell_type": "code",
   "execution_count": null,
   "metadata": {},
   "outputs": [],
   "source": [
    "# calculate fidelity with qutip matrix and variational state\n",
    "sigma = v_state.to_qobj()\n",
    "print(\" The fidelity is:\", qt.fidelity(rho_ss, sigma))"
   ]
  },
  {
   "cell_type": "code",
   "execution_count": null,
   "metadata": {},
   "outputs": [],
   "source": [
    "# calculate the expectation values based on the current variatonal state\n",
    "\n",
    "sx_expect = v_state.expect(obs_sx).mean.real\n",
    "sy_expect = v_state.expect(obs_sy).mean.real\n",
    "sz_expect = v_state.expect(obs_sz).mean.real\n",
    "print(\"\\n\", \"x-magnetization:\",sx_expect, \"\\n\", \"y-magnetization:\",sy_expect, \"\\n\", \"z-magnetization:\", sz_expect)"
   ]
  },
  {
   "cell_type": "code",
   "execution_count": null,
   "metadata": {},
   "outputs": [],
   "source": [
    "# convert the simulation data from the logger\n",
    "saved_params = logger.data\n",
    "\n",
    "x = saved_params[\"Sx\"][\"iters\"]\n",
    "y_sx = saved_params[\"Sx\"][\"Mean\"]\n",
    "y_sy = saved_params[\"Sy\"][\"Mean\"]\n",
    "y_sz = saved_params[\"Sz\"][\"Mean\"]\n",
    "\n",
    "LdagL = saved_params[\"LdagL\"][\"Mean\"]\n",
    "LdagL[-300:-100].mean()\n"
   ]
  },
  {
   "cell_type": "code",
   "execution_count": null,
   "metadata": {},
   "outputs": [],
   "source": [
    "# calculate the expectation values based on the chosen number of last iterations\n",
    "\n",
    "sx_calc = y_sx[-100:].mean().real\n",
    "sy_calc = y_sy[-100:].mean().real\n",
    "sz_calc = y_sz[-300:-100].mean().real\n",
    "print(\"\\n\", \"x-magnetization:\", sx_calc, \"\\n\", \"y-magnetization:\", sy_calc, \"\\n\", \"z-magnetization:\",sz_calc)"
   ]
  },
  {
   "cell_type": "code",
   "execution_count": null,
   "metadata": {},
   "outputs": [],
   "source": [
    "# plot the results\n",
    "\n",
    "plt.plot(x, LdagL)\n",
    "plt.title(\"LdagL\")\n",
    "plt.xlabel('Iteration')\n",
    "plt.ylabel('<LdagL>')\n",
    "plt.show()\n",
    "\n",
    "plt.plot(x, y_sx) \n",
    "plt.axhline(y=sx, color='r', linestyle='--')\n",
    "plt.title(\"Sx\")\n",
    "plt.xlabel('Iteration')\n",
    "plt.ylabel('Magnetization X')\n",
    "plt.show()\n",
    "\n",
    "plt.plot(x, y_sy)\n",
    "plt.axhline(y=sy, color='r', linestyle='--')\n",
    "plt.xlabel('Iteration')\n",
    "plt.ylabel('Magnetization Y')\n",
    "plt.title(\"Sy\")\n",
    "plt.show()\n",
    "\n",
    "plt.plot(x, y_sz)\n",
    "plt.axhline(y=sz, color='r', linestyle='--')\n",
    "plt.xlabel('Iteration')\n",
    "plt.ylabel('Magnetization Z')\n",
    "plt.show()\n",
    "\n"
   ]
  },
  {
   "cell_type": "code",
   "execution_count": null,
   "metadata": {},
   "outputs": [],
   "source": []
  }
 ],
 "metadata": {
  "kernelspec": {
   "display_name": "Python 3",
   "language": "python",
   "name": "python3"
  },
  "language_info": {
   "codemirror_mode": {
    "name": "ipython",
    "version": 3
   },
   "file_extension": ".py",
   "mimetype": "text/x-python",
   "name": "python",
   "nbconvert_exporter": "python",
   "pygments_lexer": "ipython3",
   "version": "3.11.5"
  }
 },
 "nbformat": 4,
 "nbformat_minor": 2
}
