{
 "cells": [
  {
   "cell_type": "code",
   "execution_count": 1,
   "metadata": {},
   "outputs": [
    {
     "name": "stderr",
     "output_type": "stream",
     "text": [
      "c:\\Users\\matim\\AppData\\Local\\Programs\\Python\\Python311\\Lib\\site-packages\\qutip\\__init__.py:66: UserWarning: The new version of Cython, (>= 3.0.0) is not supported.\n",
      "  warnings.warn(\n"
     ]
    }
   ],
   "source": [
    "import numpy as np\n",
    "import matplotlib.pyplot as plt\n",
    "from qutip import *"
   ]
  },
  {
   "cell_type": "code",
   "execution_count": 2,
   "metadata": {},
   "outputs": [
    {
     "name": "stdout",
     "output_type": "stream",
     "text": [
      "[[-0.        +0.j]\n",
      " [-0.        +0.j]\n",
      " [-0.        +0.j]\n",
      " [ 0.        +0.j]\n",
      " [-0.94253371+0.j]\n",
      " [-0.3003229 +0.j]\n",
      " [-0.1318858 +0.j]\n",
      " [ 0.06358062+0.j]]\n"
     ]
    }
   ],
   "source": [
    "N = 4  # Number of photon states in the cavity\n",
    "wc = 1  # Cavity frequency\n",
    "wa = 1  # Atom frequency\n",
    "g = 1.   # Coupling strength\n",
    "\n",
    "\n",
    "def lowering_a(N):\n",
    "    return np.diag(np.sqrt(np.arange(1, N)), 1)\n",
    "def raising_a(N):\n",
    "    return np.diag(np.sqrt(np.arange(1, N)), -1)\n",
    "\n",
    "creation = np.kron(lowering_a(2), np.eye(N))\n",
    "\n",
    "num_atm = creation.T @ creation #atomic number operator\n",
    "num_cav = np.kron(np.eye(2), lowering_a(N).T @ lowering_a(N)) #cavity number operator\n",
    "\n",
    "\n",
    "a_dag_X_creation = np.kron(np.eye(2), lowering_a(N)).T @ creation\n",
    "a_X_creation_dag = np.kron(np.eye(2), lowering_a(N)) @ creation.T\n",
    "\n",
    "H = wc * num_cav + wa * num_atm + g * (a_dag_X_creation+ a_X_creation_dag)\n",
    "\n",
    "psi_cav = coherent(N, np.sqrt(20))\n",
    "\n",
    "psi_atm = np.array([[0],[1]])\n",
    "\n",
    "psi0 = np.kron(psi_atm, psi_cav)\n",
    "print(psi0)"
   ]
  },
  {
   "cell_type": "code",
   "execution_count": null,
   "metadata": {},
   "outputs": [],
   "source": []
  }
 ],
 "metadata": {
  "kernelspec": {
   "display_name": "Python 3",
   "language": "python",
   "name": "python3"
  },
  "language_info": {
   "codemirror_mode": {
    "name": "ipython",
    "version": 3
   },
   "file_extension": ".py",
   "mimetype": "text/x-python",
   "name": "python",
   "nbconvert_exporter": "python",
   "pygments_lexer": "ipython3",
   "version": "3.11.5"
  }
 },
 "nbformat": 4,
 "nbformat_minor": 2
}
