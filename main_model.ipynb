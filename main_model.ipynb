{
 "cells": [
  {
   "cell_type": "code",
   "execution_count": null,
   "metadata": {},
   "outputs": [],
   "source": [
    "import netket as nk\n",
    "import matplotlib.pyplot as plt\n",
    "import numpy as np\n",
    "import jax\n",
    "import qutip as qt\n",
    "from jax import numpy as jnp\n",
    "import netket.experimental as nkx\n",
    "import optax as opt\n",
    "import flax.linen as nn"
   ]
  },
  {
   "cell_type": "code",
   "execution_count": null,
   "metadata": {},
   "outputs": [],
   "source": [
    "L = 6\n",
    "gamma_0 = 1.0\n",
    "omega = 1.5\n",
    "# set the spacing multiplier\n",
    "d = 2.0\n",
    "#calculate the wavevector\n",
    "k= 2*np.pi * 0.08 *d\n",
    "\n",
    "g = nk.graph.Chain(length=L, pbc=False)\n",
    "#define the basis\n",
    "h_space = nk.hilbert.Qubit(N=L)\n",
    "hamiltonian = nk.operator.LocalOperator(h_space, dtype=np.complex64)\n",
    "\n",
    "\n",
    "num_op = nk.operator.LocalOperator(h_space, dtype=np.complex64)\n",
    "emission_rate = nk.operator.LocalOperator(h_space, dtype=np.complex64)\n",
    "j_ops = []\n",
    "\n",
    "\n",
    "for i in range(L):\n",
    "    hamiltonian += omega * nk.operator.spin.sigmax(h_space, i)\n",
    "        \n",
    "    for j in range(L):\n",
    "        if i != j:\n",
    "            # coefficients calculated from the Green's tensor\n",
    "            z_ij = abs(i - j)\n",
    "            G = -3/4 * gamma_0 * np.exp(1j* k * z_ij)/ (k*z_ij)**3 * (k**2 * z_ij**2 + 1j * k * z_ij - 1)\n",
    "            J = -1 * np.real(G)\n",
    "            Gamma = 2* G.imag\n",
    "                \n",
    "            hamiltonian += J/2 * (\n",
    "                    nk.operator.spin.sigmap(h_space, i) * nk.operator.spin.sigmam(h_space, j) +\n",
    "                    nk.operator.spin.sigmam(h_space, i) * nk.operator.spin.sigmap(h_space, j)\n",
    "                )\n",
    "            j_ops.append(Gamma/2 *(nk.operator.spin.sigmam(h_space, i) + nk.operator.spin.sigmam(h_space, j)))\n",
    "                \n",
    "            # add the correlation operator\n",
    "            emission_rate += Gamma * (nk.operator.spin.sigmap(h_space, i) * nk.operator.spin.sigmam(h_space, j))\n",
    "                \n",
    "    # append the observable operators        \n",
    "    num_op += (nk.operator.spin.sigmap(h_space, i) * nk.operator.spin.sigmam(h_space, i))/L\n",
    "\n",
    "\n",
    "# create the Liouvillian superoperator\n",
    "lind = nk.operator.LocalLiouvillian(hamiltonian, j_ops, dtype=np.complex64)\n",
    "\n",
    "# create the ansatz model\n",
    "rbm = nk.models.NDM(alpha=1, beta=4, use_visible_bias=True, use_hidden_bias=True, use_ancilla_bias=True, kernel_init=nn.initializers.normal(stddev=0.001),\n",
    "                    bias_init=nn.initializers.normal(stddev=0.001), visible_bias_init=nn.initializers.normal(stddev=0.001))\n",
    "\n",
    "# define the sampler\n",
    "sampler = nk.sampler.MetropolisLocal(lind.hilbert, n_chains=16)\n",
    "sampler_diag = nk.sampler.MetropolisLocal(h_space, n_chains=16)\n",
    "\n",
    "\n",
    "# create the variational state\n",
    "v_state = nk.vqs.MCMixedState(sampler, rbm, n_samples=4000, n_discard_per_chain=20,\n",
    "                              n_samples_diag=2000, sampler_diag=sampler_diag,n_discard_per_chain_diag = 10, seed=789)\n",
    "# Initialize the parameters of the variational state\n",
    "v_state.init_parameters(jax.nn.initializers.normal(stddev=0.001), seed=987)\n",
    "\n"
   ]
  },
  {
   "cell_type": "code",
   "execution_count": null,
   "metadata": {},
   "outputs": [],
   "source": [
    "corr_matrix = emission_rate.to_dense()"
   ]
  },
  {
   "cell_type": "code",
   "execution_count": null,
   "metadata": {},
   "outputs": [],
   "source": [
    "# calcualte steady state density matrix with qutip\n",
    "rho_ss = qt.steadystate(hamiltonian.to_qobj(), [j_op.to_qobj() for j_op in j_ops])\n",
    "corr_matrix = emission_rate.to_dense()\n",
    "num_matrix = num_op.to_dense()\n",
    "rho_ss_matrix = rho_ss.full()\n",
    "emission = np.real(np.trace(corr_matrix @ rho_ss_matrix))\n",
    "print(\"The exact correalted emission is:\", emission)"
   ]
  },
  {
   "cell_type": "code",
   "execution_count": null,
   "metadata": {},
   "outputs": [],
   "source": [
    "# calculate observales with netket exact method\n",
    "rho_nk = nk.exact.steady_state(lind, method='iterative')\n",
    "num_op_matrix = num_op.to_sparse()\n",
    "sx = np.trace(rho_nk @ num_op_matrix)\n",
    "print(sx)\n",
    "print(np.real(np.round(sx, 5)))\n",
    "print(np.real(np.trace(rho_nk @ corr_matrix)))"
   ]
  },
  {
   "cell_type": "code",
   "execution_count": null,
   "metadata": {},
   "outputs": [],
   "source": [
    "# defining the optimizer\n",
    "optimizer = nk.optimizer.Sgd(0.1)\n",
    "\n",
    "sr = nk.optimizer.SR(diag_shift=1e-2,solver=nk.optimizer.solver.svd, holomorphic=False)\n",
    "\n",
    "# create the simulation object minimizing the Liouvillian\n",
    "ss = nk.SteadyState(lind, variational_state=v_state, optimizer=optimizer, preconditioner=sr)\n",
    "\n",
    "# save the data whicle running\n",
    "logger= nk.logging.RuntimeLog()\n",
    "\n",
    "# start the simulation\n",
    "ss.run(out=logger, n_iter=1000, obs={\"num\": num_op, \"emission\": emission_rate})"
   ]
  },
  {
   "cell_type": "code",
   "execution_count": null,
   "metadata": {},
   "outputs": [],
   "source": [
    "import numpy as np\n",
    "from scipy.linalg import sqrtm\n",
    "\n",
    "def fidelity(rho: np.array, sigma: np.array) -> float:\n",
    "    \"\"\"\n",
    "    Calculate the fidelity between two density matrices.\n",
    "\n",
    "    Parameters:\n",
    "    rho (np.ndarray): First density matrix\n",
    "    sigma (np.ndarray): Second density matrix\n",
    "\n",
    "    Returns:\n",
    "    float: Fidelity between rho and sigma\n",
    "    \"\"\"\n",
    "    # Ensure rho and sigma are numpy arrays\n",
    "    rho = np.array(rho)\n",
    "    sigma = np.array(sigma)\n",
    "    \n",
    "    # Calculate the square root of rho\n",
    "    sqrt_rho = sqrtm(rho)\n",
    "    \n",
    "    # Calculate the product sqrt_rho * sigma * sqrt_rho\n",
    "    product = sqrt_rho @ sigma @ sqrt_rho\n",
    "    \n",
    "    # Calculate the square root of the product\n",
    "    sqrt_product = sqrtm(product)\n",
    "    \n",
    "    # Calculate the trace of the square root of the product\n",
    "    trace = np.trace(sqrt_product)\n",
    "    \n",
    "    # Calculate the fidelity\n",
    "    fidelity_value = np.real(trace) ** 2\n",
    "    \n",
    "    return fidelity_value\n"
   ]
  },
  {
   "cell_type": "code",
   "execution_count": null,
   "metadata": {},
   "outputs": [],
   "source": [
    "sig = v_state.to_matrix()\n",
    "rho = np.array(rho_ss)\n",
    "print(\"The fidelity is:\", fidelity(rho, sig))"
   ]
  },
  {
   "cell_type": "code",
   "execution_count": null,
   "metadata": {},
   "outputs": [],
   "source": [
    "# calculate fidelity with qutip matrix and variational state\n",
    "sigma = v_state.to_qobj()\n",
    "print(\" The fidelity calculated with qutip is:\", np.round(qt.fidelity(rho_ss, sigma),5))"
   ]
  },
  {
   "cell_type": "code",
   "execution_count": null,
   "metadata": {},
   "outputs": [],
   "source": [
    "# convert the simulation data from the logger\n",
    "\n",
    "saved_params = logger.data\n",
    "\n",
    "x = saved_params[\"LdagL\"][\"iters\"]\n",
    "num = saved_params[\"num\"][\"Mean\"]\n",
    "corr = saved_params[\"emission\"][\"Mean\"]\n",
    "\n",
    "LdagL = saved_params[\"LdagL\"][\"Mean\"]"
   ]
  },
  {
   "cell_type": "code",
   "execution_count": null,
   "metadata": {},
   "outputs": [],
   "source": [
    "corr = np.round(corr.mean(), 6)/L / gamma_0\n",
    "print(\"The correalted emission is;\", corr)"
   ]
  },
  {
   "cell_type": "code",
   "execution_count": null,
   "metadata": {},
   "outputs": [],
   "source": [
    "num_calc = num[-50:].mean().real\n",
    "print(\"\\n\", \"Atomic population:\", np.round(num_calc,5))"
   ]
  },
  {
   "cell_type": "code",
   "execution_count": null,
   "metadata": {},
   "outputs": [],
   "source": [
    "# plot the results\n",
    "\n",
    "plt.plot(x, LdagL)\n",
    "plt.title(\"LdagL\")\n",
    "plt.xlabel('Iteration')\n",
    "plt.ylabel('<LdagL>')\n",
    "plt.show()\n",
    "\n",
    "plt.plot(x, num)\n",
    "plt.axhline(y=sx, color='r', linestyle='--')\n",
    "plt.title(\"Number Operator\")\n",
    "plt.xlabel('Iteration')\n",
    "plt.ylabel('<Number Operator>')\n",
    "plt.show()\n"
   ]
  },
  {
   "cell_type": "code",
   "execution_count": null,
   "metadata": {},
   "outputs": [],
   "source": []
  },
  {
   "cell_type": "code",
   "execution_count": null,
   "metadata": {},
   "outputs": [],
   "source": []
  }
 ],
 "metadata": {
  "kernelspec": {
   "display_name": "Python 3",
   "language": "python",
   "name": "python3"
  },
  "language_info": {
   "codemirror_mode": {
    "name": "ipython",
    "version": 3
   },
   "file_extension": ".py",
   "mimetype": "text/x-python",
   "name": "python",
   "nbconvert_exporter": "python",
   "pygments_lexer": "ipython3",
   "version": "3.11.5"
  }
 },
 "nbformat": 4,
 "nbformat_minor": 2
}
